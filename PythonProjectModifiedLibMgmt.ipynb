{
 "cells": [
  {
   "cell_type": "code",
   "execution_count": 4,
   "id": "5cb4d56d-3e6e-47e0-a886-ad99a3e0b6f7",
   "metadata": {},
   "outputs": [],
   "source": [
    "class User:\n",
    "    def __init__(self, username, password):\n",
    "        self.username = username\n",
    "        self.password = password\n",
    "        self.borrowed_books = []\n",
    "\n",
    "    def login(self, username, password):\n",
    "        return self.username == username and self.password == password\n",
    "\n",
    "    def borrow_book(self, book):\n",
    "        if not book.is_borrowed:\n",
    "            self.borrowed_books.append(book)\n",
    "            book.borrow()\n",
    "            return True\n",
    "        return False\n",
    "\n",
    "    def return_book(self, book):\n",
    "        if book in self.borrowed_books:\n",
    "            self.borrowed_books.remove(book)\n",
    "            book.return_book()\n",
    "            return True\n",
    "        return False"
   ]
  },
  {
   "cell_type": "code",
   "execution_count": 5,
   "id": "5ede06aa-42fe-4d9f-96c6-b69bfa234771",
   "metadata": {},
   "outputs": [],
   "source": [
    "class Book:\n",
    "    def __init__(self, title, author):\n",
    "        self.title = title\n",
    "        self.author = author\n",
    "        self.is_borrowed = False\n",
    "\n",
    "    def borrow(self):\n",
    "        self.is_borrowed = True\n",
    "\n",
    "    def return_book(self):\n",
    "        self.is_borrowed = False\n",
    "\n"
   ]
  },
  {
   "cell_type": "code",
   "execution_count": 6,
   "id": "2871c4ce-bd63-4935-bfd9-7681e00bdf24",
   "metadata": {},
   "outputs": [],
   "source": [
    "class Library:\n",
    "    def __init__(self):\n",
    "        self.books = []\n",
    "        self.users = []\n",
    "\n",
    "    def add_book(self, title, author):\n",
    "        new_book = Book(title, author)\n",
    "        self.books.append(new_book)\n",
    "\n",
    "    def add_user(self, username, password):\n",
    "        new_user = User(username, password)\n",
    "        self.users.append(new_user)\n",
    "\n",
    "    def authenticate_user(self, username, password):\n",
    "        for user in self.users:\n",
    "            if user.login(username, password):\n",
    "                return user\n",
    "        return None\n",
    "\n",
    "    def display_books(self):\n",
    "        for book in self.books:\n",
    "            if not book.is_borrowed:\n",
    "                print(f\"{book.title} by {book.author}\")\n"
   ]
  },
  {
   "cell_type": "code",
   "execution_count": 7,
   "id": "57741efb-77d7-44d3-8c3f-fa01ff1f9701",
   "metadata": {},
   "outputs": [
    {
     "name": "stdin",
     "output_type": "stream",
     "text": [
      "Enter username:  Shuchi\n",
      "Enter password:  Shuchi0906\n"
     ]
    },
    {
     "name": "stdout",
     "output_type": "stream",
     "text": [
      "Invalid username or password.\n"
     ]
    }
   ],
   "source": [
    "library = Library()\n",
    "library.add_book(\"Python Programming\", \"John Smith\")\n",
    "library.add_book(\"Learn AI\", \"Jane Doe\")\n",
    "library.add_user(\"admin\", \"password\")\n",
    "\n",
    "# Authenticate user\n",
    "username = input(\"Enter username: \")\n",
    "password = input(\"Enter password: \")\n",
    "user = library.authenticate_user(username, password)\n",
    "\n",
    "if user:\n",
    "    print(f\"Welcome, {user.username}!\")\n",
    "    while True:\n",
    "        print(\"\\n1. Display Books\\n2. Borrow Book\\n3. Return Book\\n4. Exit\")\n",
    "        choice = int(input(\"Enter your choice: \"))\n",
    "\n",
    "        if choice == 1:\n",
    "            library.display_books()\n",
    "        elif choice == 2:\n",
    "            book_title = input(\"Enter the title of the book to borrow: \")\n",
    "            for book in library.books:\n",
    "                if book.title == book_title:\n",
    "                    if user.borrow_book(book):\n",
    "                        print(f\"You borrowed '{book_title}'\")\n",
    "                    else:\n",
    "                        print(f\"'{book_title}' is not available.\")\n",
    "                    break\n",
    "            else:\n",
    "                print(f\"'{book_title}' not found.\")\n",
    "        elif choice == 3:\n",
    "            book_title = input(\"Enter the title of the book to return: \")\n",
    "            for book in user.borrowed_books:\n",
    "                if book.title == book_title:\n",
    "                    if user.return_book(book):\n",
    "                        print(f\"You returned '{book_title}'\")\n",
    "                    break\n",
    "            else:\n",
    "                print(f\"You don't have '{book_title}' to return.\")\n",
    "        elif choice == 4:\n",
    "            print(\"Goodbye!\")\n",
    "            break\n",
    "        else:\n",
    "            print(\"Invalid choice. Please try again.\")\n",
    "else:\n",
    "    print(\"Invalid username or password.\")\n"
   ]
  },
  {
   "cell_type": "code",
   "execution_count": null,
   "id": "43a3ff40-4621-4afd-b3a1-3148c52f7dca",
   "metadata": {},
   "outputs": [],
   "source": []
  }
 ],
 "metadata": {
  "kernelspec": {
   "display_name": "Python 3",
   "language": "python",
   "name": "python3"
  },
  "language_info": {
   "codemirror_mode": {
    "name": "ipython",
    "version": 3
   },
   "file_extension": ".py",
   "mimetype": "text/x-python",
   "name": "python",
   "nbconvert_exporter": "python",
   "pygments_lexer": "ipython3",
   "version": "3.8.8"
  }
 },
 "nbformat": 4,
 "nbformat_minor": 5
}
